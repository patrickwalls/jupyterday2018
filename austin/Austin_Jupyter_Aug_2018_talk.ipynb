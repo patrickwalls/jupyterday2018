{
 "cells": [
  {
   "cell_type": "markdown",
   "metadata": {
    "slideshow": {
     "slide_type": "skip"
    },
    "toc": true
   },
   "source": [
    "<h1>Table of Contents<span class=\"tocSkip\"></span></h1>\n",
    "<div class=\"toc\"><ul class=\"toc-item\"><li><span><a href=\"#Teaching-with-Jupyter-in-EOAS\" data-toc-modified-id=\"Teaching-with-Jupyter-in-EOAS-1\"><span class=\"toc-item-num\">1&nbsp;&nbsp;</span>Teaching with Jupyter in EOAS</a></span><ul class=\"toc-item\"><li><span><a href=\"#The-evolution-of-EOSC-511/ATSC-409\" data-toc-modified-id=\"The-evolution-of-EOSC-511/ATSC-409-1.1\"><span class=\"toc-item-num\">1.1&nbsp;&nbsp;</span>The evolution of EOSC 511/ATSC 409</a></span></li><li><span><a href=\"#EM-Geosci\" data-toc-modified-id=\"EM-Geosci-1.2\"><span class=\"toc-item-num\">1.2&nbsp;&nbsp;</span><a href=\"https://em.geosci.xyz/apps.html\" target=\"_blank\">EM Geosci</a></a></span><ul class=\"toc-item\"><li><span><a href=\"#Used-in-EOSC-350:-Environmental,-Geotechnical-and-Exploration-Geophysics-I\" data-toc-modified-id=\"Used-in-EOSC-350:-Environmental,-Geotechnical-and-Exploration-Geophysics-I-1.2.1\"><span class=\"toc-item-num\">1.2.1&nbsp;&nbsp;</span>Used in EOSC 350: Environmental, Geotechnical and Exploration Geophysics I</a></span></li></ul></li><li><span><a href=\"#Programming-with-libraries\" data-toc-modified-id=\"Programming-with-libraries-1.3\"><span class=\"toc-item-num\">1.3&nbsp;&nbsp;</span>Programming with libraries</a></span></li><li><span><a href=\"#Building-a-course-website-with-nbsphinx\" data-toc-modified-id=\"Building-a-course-website-with-nbsphinx-1.4\"><span class=\"toc-item-num\">1.4&nbsp;&nbsp;</span>Building a course website with nbsphinx</a></span></li><li><span><a href=\"#Integrating-canvas-and-jupyter\" data-toc-modified-id=\"Integrating-canvas-and-jupyter-1.5\"><span class=\"toc-item-num\">1.5&nbsp;&nbsp;</span>Integrating canvas and jupyter</a></span></li></ul></li></ul></div>"
   ]
  },
  {
   "cell_type": "markdown",
   "metadata": {
    "slideshow": {
     "slide_type": "slide"
    }
   },
   "source": [
    "# Teaching with Jupyter in EOAS\n",
    "\n",
    "1.1 The evolution of EOSC 511/ATSC 409\n",
    "\n",
    "1.2 Widgets with hosting in EOSC 350\n",
    "\n",
    "1.3 Programing with libraries: ATSC 301 and ATSC 405\n",
    "\n",
    "1.4 Organizing notebooks and building a portfolio/website\n",
    "\n",
    "1.5 Integrating Canvas and Jupyter"
   ]
  },
  {
   "cell_type": "markdown",
   "metadata": {
    "slideshow": {
     "slide_type": "slide"
    }
   },
   "source": [
    "## The evolution of EOSC 511/ATSC 409\n",
    "\n",
    "Early days: [Allen, Stockie and Austin, 1997](https://clouds.eos.ubc.ca/~phil/docs/bams_allen_numeric_course.pdf )\n",
    "\n",
    "Current version: [Numerical methods: Fall 2017](https://clouds.eos.ubc.ca/~phil/numeric), https://github.com/phaustin/numeric\n",
    "\n",
    "* Approx. 20 students, graduate/undergraduate\n",
    "* Notebooks written in python\n",
    "* Projects use any language\n",
    "* All work done on student laptops"
   ]
  },
  {
   "cell_type": "markdown",
   "metadata": {
    "slideshow": {
     "slide_type": "slide"
    }
   },
   "source": [
    "## [EM Geosci](https://em.geosci.xyz/apps.html)\n",
    "\n",
    "* Sphinx-based textbook plus Jupyter notebook apps\n",
    "\n",
    "* Uses the [Simulation and Parameter Estimation package SimPEG](https://github.com/simpeg/simpeg)\n",
    "\n",
    "\n",
    "### Used in EOSC 350: Environmental, Geotechnical and Exploration Geophysics I\n",
    "\n",
    "* [Fall, 2018, enrollment: 75 students](http://eosc350.geosci.xyz/en/latest/)\n",
    "* Example demo using [mybinder](https://hub.mybinder.org/user/geoscixyz-em-apps-r0032att/notebooks/index.ipynb), [ubc.syzygy.ca](https://ubc.syzygy.ca/jupyter/user/austin/tree?), www.cocalc.com"
   ]
  },
  {
   "cell_type": "markdown",
   "metadata": {
    "slideshow": {
     "slide_type": "slide"
    }
   },
   "source": [
    "## Programming with libraries\n",
    "\n",
    "* Use [conda](https://www.anaconda.com/distribution) to manage student laptop installs, \n",
    "handle difficult package builds:  for example [libgdal](https://github.com/conda-forge/libgdal-feedstock)\n",
    "remote sensing/gis\n",
    "\n",
    "  * conda provides non-python components ([c++](https://conda.io/docs/user-guide/tasks/build-packages/compiler-tools.html), [llvm](https://llvm.org/), [pandoc](https://pandoc.org/), [git](https://git-scm.com/))\n",
    "  \n",
    "  * conda provides environments for reproducible builds/computing\n",
    "    \n",
    "    * my [conda channel](https://anaconda.org/phaustin/dashboard)\n",
    "\n",
    "* Documenting a code library with sphinx:  [ATSC 405](https://clouds.eos.ubc.ca/~phil/courses/atsc405/), [A405 on github](https://github.com/phaustin/atsc405_2018)\n",
    "\n",
    "* [The importance of grep](https://clouds.eos.ubc.ca/~phil/courses/atsc405/notebook_index.html) "
   ]
  },
  {
   "cell_type": "markdown",
   "metadata": {
    "slideshow": {
     "slide_type": "slide"
    }
   },
   "source": [
    "## Building a course website with nbsphinx\n",
    "\n",
    "* [parallel python shortcourse](https://github.com/phaustin/parallel_python_course)"
   ]
  },
  {
   "cell_type": "markdown",
   "metadata": {
    "slideshow": {
     "slide_type": "slide"
    }
   },
   "source": [
    "##  Integrating canvas and jupyter\n",
    "\n",
    "> \"I teach for free, they pay me to grade\"\n",
    "\n",
    "* Use [canvas scripting](https://canvas.ubc.ca/doc/api/live#!/submissions.json/grade_or_comment_on_submission_courses_put_10) to download notebooks, autograde them, and upload links to the graded notebooks\n",
    "\n",
    "* [Python example for module title rewrite](https://github.com/phaustin/eoas_canvas/blob/master/scripts/change_module.py)\n",
    "\n",
    "* [open source in action](https://github.com/ucfopen/canvasapi/pull/207)"
   ]
  }
 ],
 "metadata": {
  "celltoolbar": "Slideshow",
  "kernelspec": {
   "display_name": "Python 3",
   "language": "python",
   "name": "python3"
  },
  "language_info": {
   "codemirror_mode": {
    "name": "ipython",
    "version": 3
   },
   "file_extension": ".py",
   "mimetype": "text/x-python",
   "name": "python",
   "nbconvert_exporter": "python",
   "pygments_lexer": "ipython3",
   "version": "3.6.6"
  },
  "toc": {
   "base_numbering": 1,
   "nav_menu": {},
   "number_sections": true,
   "sideBar": false,
   "skip_h1_title": false,
   "title_cell": "Table of Contents",
   "title_sidebar": "Contents",
   "toc_cell": true,
   "toc_position": {},
   "toc_section_display": true,
   "toc_window_display": false
  }
 },
 "nbformat": 4,
 "nbformat_minor": 2
}
