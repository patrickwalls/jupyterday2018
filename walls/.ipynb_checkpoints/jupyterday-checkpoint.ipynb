{
 "cells": [
  {
   "cell_type": "markdown",
   "metadata": {
    "slideshow": {
     "slide_type": "slide"
    }
   },
   "source": [
    "<center>\n",
    "<h1>UBC JupyterDay 2018</h1>\n",
    "<br>\n",
    "<img src=\"jupyter-logo.png\" style=\"width: 600px\">\n",
    "\n",
    "August 16, 2018\n",
    "<br>\n",
    "Undergraduate Mathematics Computer Lab\n",
    "<br>\n",
    "LSK 121\n",
    "</center>\n"
   ]
  },
  {
   "cell_type": "markdown",
   "metadata": {
    "slideshow": {
     "slide_type": "slide"
    }
   },
   "source": [
    "### Undergraduate Mathematics Computer Lab\n",
    "\n",
    "<br>\n",
    "<center>\n",
    "<img src=\"lsk.jpg\" style=\"width: 700px\">\n",
    "    </center>"
   ]
  },
  {
   "cell_type": "markdown",
   "metadata": {
    "slideshow": {
     "slide_type": "subslide"
    }
   },
   "source": [
    "### Thanks to ...\n",
    "\n",
    "* Marlene Tecson-Golfinopoulos, MATH\n",
    "* The Ha, MATH/STAT\n",
    "* Steven Hallam, MICB\n",
    "* Nancy Heckman, STAT\n",
    "* UBC Infrastructure Development: Jodi Scott, Steven Lee, Anita Ryder, Travis Debnam"
   ]
  },
  {
   "cell_type": "markdown",
   "metadata": {
    "slideshow": {
     "slide_type": "slide"
    }
   },
   "source": [
    "### Jupyter is ...\n",
    "\n",
    "* a web application for creating computational narratives\n",
    "* a notebook in the browser which runs code and renders text, LaTeX, markdown, images, videos and more\n",
    "* language agnostic with kernels for Python, R, Julia, Octave, and many more\n",
    "* an open source software project with 100s of contributors"
   ]
  },
  {
   "cell_type": "markdown",
   "metadata": {
    "slideshow": {
     "slide_type": "subslide"
    }
   },
   "source": [
    "<center>\n",
    "![stellar](stellar_notebook.png)\n",
    "</center>"
   ]
  },
  {
   "cell_type": "markdown",
   "metadata": {
    "slideshow": {
     "slide_type": "slide"
    }
   },
   "source": [
    "### Download, install and run Jupyter locally\n",
    "\n",
    "<br>\n",
    "<center>\n",
    "![Anaconda](https://www.anaconda.com/wp-content/themes/anaconda/images/logo-dark.png)\n",
    "    \n",
    "<a href=\"https://www.anaconda.com/download/#macos\">anaconda.com/download</a>\n",
    "    </center>"
   ]
  },
  {
   "cell_type": "markdown",
   "metadata": {
    "slideshow": {
     "slide_type": "fragment"
    }
   },
   "source": [
    "### or better yet ..."
   ]
  },
  {
   "cell_type": "markdown",
   "metadata": {
    "slideshow": {
     "slide_type": "slide"
    }
   },
   "source": [
    "<center>\n",
    "![syzygy](syzygy.png)\n",
    "</center>"
   ]
  },
  {
   "cell_type": "markdown",
   "metadata": {
    "slideshow": {
     "slide_type": "subslide"
    }
   },
   "source": [
    "### Syzygy is ...\n",
    "\n",
    "* a web service which hosts Jupyter notebooks\n",
    "* provided by PIMS and Compute Canada\n",
    "* available to all at UBC via CWL\n",
    "* available to 400,000+ users at 15 universities across Canada\n",
    "* a barrier-free entry for students into programming and computation\n",
    "* thanks to Jim Colliander and Ian Allison"
   ]
  },
  {
   "cell_type": "markdown",
   "metadata": {
    "slideshow": {
     "slide_type": "slide"
    }
   },
   "source": [
    "### Demos"
   ]
  },
  {
   "cell_type": "markdown",
   "metadata": {
    "slideshow": {
     "slide_type": "slide"
    }
   },
   "source": [
    "<center>\n",
    "<h1>UBC JupyterDay 2018</h1>\n",
    "<br>\n",
    "<img src=\"jupyter-logo.png\" style=\"width: 600px\">\n",
    "\n",
    "August 16, 2018\n",
    "<br>\n",
    "Undergraduate Mathematics Computer Lab\n",
    "<br>\n",
    "LSK 121\n",
    "</center>\n"
   ]
  }
 ],
 "metadata": {
  "celltoolbar": "Slideshow",
  "kernelspec": {
   "display_name": "Python 3",
   "language": "python",
   "name": "python3"
  },
  "language_info": {
   "codemirror_mode": {
    "name": "ipython",
    "version": 3
   },
   "file_extension": ".py",
   "mimetype": "text/x-python",
   "name": "python",
   "nbconvert_exporter": "python",
   "pygments_lexer": "ipython3",
   "version": "3.5.5"
  }
 },
 "nbformat": 4,
 "nbformat_minor": 2
}
