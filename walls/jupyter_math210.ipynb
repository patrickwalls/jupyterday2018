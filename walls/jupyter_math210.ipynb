{
 "cells": [
  {
   "cell_type": "markdown",
   "metadata": {
    "slideshow": {
     "slide_type": "slide"
    }
   },
   "source": [
    "<center>\n",
    "<h1>MATH 210 Introduction to Mathematical Computing</h1>\n",
    "<br>\n",
    "<img src=\"jupyter-logo.png\" style=\"width: 600px\">\n",
    "\n",
    "Patrick Walls\n",
    "<br>\n",
    "UBC JupyterDay\n",
    "<br>\n",
    "August 16, 2018\n",
    "<br>\n",
    "Undergraduate Mathematics Computer Lab\n",
    "<br>\n",
    "LSK 121\n",
    "</center>\n"
   ]
  },
  {
   "cell_type": "markdown",
   "metadata": {
    "slideshow": {
     "slide_type": "slide"
    }
   },
   "source": [
    "### MATH 210 Introduction to Mathematical Computing\n",
    "\n",
    "* Introduction to numerical computation, computer algebra, mathematical graphics\n",
    "* Primarily for second year students taking a degree in mathematics\n",
    "* One hour laboratory each week in LSK 121\n",
    "* Emphasis on solving mathematical problems as opposed to software design\n",
    "* Calculus, linear algebra, differential equations, probability, statistics\n",
    "* Satisfies CPSC degree requirement for MATH/STAT/ECON students"
   ]
  },
  {
   "cell_type": "markdown",
   "metadata": {
    "slideshow": {
     "slide_type": "slide"
    }
   },
   "source": [
    "### MATH 210 before 2015\n",
    "\n",
    "* Maple and MATLAB\n",
    "* Traditional chalkboard lectures\n",
    "* Hands-on programming activities in a computer lab (1 hour/week)\n",
    "* Computational assignments (printed code and hand-written solutions)\n",
    "* Traditional written exams"
   ]
  },
  {
   "cell_type": "markdown",
   "metadata": {
    "slideshow": {
     "slide_type": "slide"
    }
   },
   "source": [
    "### Things to Consider\n",
    "\n",
    "* Industry does not use Maple and MATLAB is on the way out\n",
    "* LinkedIn job posting advertise Python, R, Java, C++, Julia, … \n",
    "* Computation takes place in a restricted computer lab\n",
    "* Maple and MATLAB are used less frequently in academic publications\n",
    "* Maple and MATLAB are proprietary:\n",
    "    * Single-user Maple license: \\$1000 (academic), \\$2300 (professional)\n",
    "    * Single-user MATLAB license: \\$660 (academic), \\$2800 (professional)"
   ]
  },
  {
   "cell_type": "markdown",
   "metadata": {
    "slideshow": {
     "slide_type": "slide"
    }
   },
   "source": [
    "### New Ideas: Learner-Centered Course Design\n",
    "\n",
    "* Python\n",
    "    * Open source general purpose programming language with huge global community\n",
    "* JupyterHub\n",
    "    * Web-service provided by PIMS\n",
    "    * Write Python code in Jupyter notebooks in the browser\n",
    "    * Anyone with a CWL can login at ubc.syzygy.ca\n",
    "    * Thanks to Jim Colliander and Ian Allison!"
   ]
  },
  {
   "cell_type": "markdown",
   "metadata": {
    "slideshow": {
     "slide_type": "slide"
    }
   },
   "source": [
    "### New Ideas: Learner-Centered Course Design\n",
    "\n",
    "* GitHub\n",
    "    * Collaborative software development with Git\n",
    "    * All course notes are Jupyter notebooks posted on GitHub\n",
    "    * github.com/ubc-math210\n",
    "* Classroom tools\n",
    "    * Piazza, Polleverywhere, Google Forms, etc."
   ]
  },
  {
   "cell_type": "markdown",
   "metadata": {
    "slideshow": {
     "slide_type": "slide"
    }
   },
   "source": [
    "### Course Outline\n",
    "\n",
    "* Assignments: write Python code in Jupyter notebooks to solve computational problems\n",
    "* Quizzes:\n",
    "    * students bring their laptop to the lab\n",
    "    * *open everything*: students can consult *any* resources\n",
    "    * students write code in Jupyter notebooks\n"
   ]
  },
  {
   "cell_type": "markdown",
   "metadata": {
    "slideshow": {
     "slide_type": "subslide"
    }
   },
   "source": [
    "### Course Outline\n",
    "\n",
    "* Data Science Project:\n",
    "    * teams of 2-3 students\n",
    "    * students search the web to find an interesting dataset\n",
    "    * create a Jupyter notebook and write Python code to explore the dataset\n",
    "    * create data visualizations to reveal complex patterns in the dataset\n",
    "* Final Exam:\n",
    "    * paper exams\n",
    "    * read and write Python code\n",
    "    * mathematical computations"
   ]
  },
  {
   "cell_type": "markdown",
   "metadata": {
    "slideshow": {
     "slide_type": "slide"
    }
   },
   "source": [
    "### Example: Assignment 1 Question 4\n",
    "\n",
    "Represent a degree $n$ polynomial function $p(x) = a_0 + a_1 x + a_2 x^2 + \\cdots + a_n x^n$ as a list of (real) coefficients $[a_0,a_1,a_2,\\dots,a_n]$. Write a function called `poly_diff` which takes an input parameter `p`, a list representing a polynomial function $p(x)$, and returns a list representing the derivative $p'(x)$."
   ]
  },
  {
   "cell_type": "code",
   "execution_count": 1,
   "metadata": {
    "collapsed": true,
    "slideshow": {
     "slide_type": "fragment"
    }
   },
   "outputs": [],
   "source": [
    "def poly_diff(p):\n",
    "    if len(p) == 1:\n",
    "        dpdx = [0]\n",
    "    else:\n",
    "        dpdx = [n*p[n] for n in range(1,len(p)) ]\n",
    "    return dpdx"
   ]
  },
  {
   "cell_type": "code",
   "execution_count": 2,
   "metadata": {
    "collapsed": true,
    "slideshow": {
     "slide_type": "fragment"
    }
   },
   "outputs": [],
   "source": [
    "assert poly_diff([1]) == [0]\n",
    "assert poly_diff([1,2,3]) == [2,6]\n",
    "assert poly_diff([0,-1,4,0,5]) == [-1,8,0,20]"
   ]
  },
  {
   "cell_type": "code",
   "execution_count": 4,
   "metadata": {
    "slideshow": {
     "slide_type": "fragment"
    }
   },
   "outputs": [
    {
     "data": {
      "text/plain": [
       "[0, -2]"
      ]
     },
     "execution_count": 4,
     "metadata": {},
     "output_type": "execute_result"
    }
   ],
   "source": [
    "poly_diff([1,0,-1])"
   ]
  },
  {
   "cell_type": "markdown",
   "metadata": {
    "slideshow": {
     "slide_type": "slide"
    }
   },
   "source": [
    "### Example: Data Science Project\n",
    "\n",
    "<br>\n",
    "<center>\n",
    "![stellar](stellar_notebook.png)\n",
    "    </center>"
   ]
  },
  {
   "cell_type": "markdown",
   "metadata": {
    "slideshow": {
     "slide_type": "slide"
    }
   },
   "source": [
    "### MATH 210 on GitHub (github.com/ubc-math210)\n",
    "\n",
    "<br>\n",
    "<center>\n",
    "![github](github.png)\n",
    "</center>"
   ]
  },
  {
   "cell_type": "markdown",
   "metadata": {
    "slideshow": {
     "slide_type": "slide"
    }
   },
   "source": [
    "### Textbook: Mathematical Python\n",
    "\n",
    "* Available at www.math.ubc.ca/~pwalls/math-python\n",
    "* Notebooks on Github: github.com/ubc-math210/mathematical-python\n",
    "* Notebooks on Binder: mybinder.org"
   ]
  },
  {
   "cell_type": "markdown",
   "metadata": {
    "slideshow": {
     "slide_type": "slide"
    }
   },
   "source": [
    "<center>\n",
    "<h1>MATH 210 Introduction to Mathematical Computing</h1>\n",
    "<br>\n",
    "<img src=\"jupyter-logo.png\" style=\"width: 600px\">\n",
    "\n",
    "UBC JupyterDay\n",
    "<br>\n",
    "August 16, 2018\n",
    "<br>\n",
    "Undergraduate Mathematics Computer Lab\n",
    "<br>\n",
    "LSK 121\n",
    "</center>\n"
   ]
  }
 ],
 "metadata": {
  "celltoolbar": "Slideshow",
  "kernelspec": {
   "display_name": "Python 3",
   "language": "python",
   "name": "python3"
  },
  "language_info": {
   "codemirror_mode": {
    "name": "ipython",
    "version": 3
   },
   "file_extension": ".py",
   "mimetype": "text/x-python",
   "name": "python",
   "nbconvert_exporter": "python",
   "pygments_lexer": "ipython3",
   "version": "3.5.5"
  }
 },
 "nbformat": 4,
 "nbformat_minor": 2
}
